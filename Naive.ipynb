{
 "cells": [
  {
   "cell_type": "code",
   "execution_count": 172,
   "metadata": {},
   "outputs": [],
   "source": [
    "import pandas as pd\n",
    "from sklearn.preprocessing import LabelEncoder\n",
    "from sklearn.naive_bayes import CategoricalNB"
   ]
  },
  {
   "cell_type": "code",
   "execution_count": 173,
   "metadata": {},
   "outputs": [
    {
     "data": {
      "text/html": [
       "<div>\n",
       "<style scoped>\n",
       "    .dataframe tbody tr th:only-of-type {\n",
       "        vertical-align: middle;\n",
       "    }\n",
       "\n",
       "    .dataframe tbody tr th {\n",
       "        vertical-align: top;\n",
       "    }\n",
       "\n",
       "    .dataframe thead th {\n",
       "        text-align: right;\n",
       "    }\n",
       "</style>\n",
       "<table border=\"1\" class=\"dataframe\">\n",
       "  <thead>\n",
       "    <tr style=\"text-align: right;\">\n",
       "      <th></th>\n",
       "      <th>Nationality</th>\n",
       "      <th>Size</th>\n",
       "      <th>Question1</th>\n",
       "      <th>Question2</th>\n",
       "      <th>Question3</th>\n",
       "      <th>Question4</th>\n",
       "      <th>Question5</th>\n",
       "      <th>Label</th>\n",
       "    </tr>\n",
       "  </thead>\n",
       "  <tbody>\n",
       "    <tr>\n",
       "      <th>0</th>\n",
       "      <td>ต่างชาติ</td>\n",
       "      <td>ใหญ่</td>\n",
       "      <td>จริง</td>\n",
       "      <td>ไม่จริง</td>\n",
       "      <td>จริง</td>\n",
       "      <td>จริง</td>\n",
       "      <td>จริง</td>\n",
       "      <td>โกลเด้น รีทรีฟเวอร์</td>\n",
       "    </tr>\n",
       "    <tr>\n",
       "      <th>1</th>\n",
       "      <td>ต่างชาติ</td>\n",
       "      <td>ใหญ่</td>\n",
       "      <td>ไม่จริง</td>\n",
       "      <td>ไม่จริง</td>\n",
       "      <td>ไม่จริง</td>\n",
       "      <td>จริง</td>\n",
       "      <td>ไม่จริง</td>\n",
       "      <td>โกลเด้น รีทรีฟเวอร์</td>\n",
       "    </tr>\n",
       "    <tr>\n",
       "      <th>2</th>\n",
       "      <td>ต่างชาติ</td>\n",
       "      <td>ใหญ่</td>\n",
       "      <td>จริง</td>\n",
       "      <td>จริง</td>\n",
       "      <td>จริง</td>\n",
       "      <td>จริง</td>\n",
       "      <td>จริง</td>\n",
       "      <td>โกลเด้น รีทรีฟเวอร์</td>\n",
       "    </tr>\n",
       "    <tr>\n",
       "      <th>3</th>\n",
       "      <td>ต่างชาติ</td>\n",
       "      <td>ใหญ่</td>\n",
       "      <td>จริง</td>\n",
       "      <td>ไม่จริง</td>\n",
       "      <td>จริง</td>\n",
       "      <td>จริง</td>\n",
       "      <td>ไม่จริง</td>\n",
       "      <td>โกลเด้น รีทรีฟเวอร์</td>\n",
       "    </tr>\n",
       "    <tr>\n",
       "      <th>4</th>\n",
       "      <td>ต่างชาติ</td>\n",
       "      <td>ใหญ่</td>\n",
       "      <td>จริง</td>\n",
       "      <td>ไม่จริง</td>\n",
       "      <td>จริง</td>\n",
       "      <td>จริง</td>\n",
       "      <td>จริง</td>\n",
       "      <td>โกลเด้น รีทรีฟเวอร์</td>\n",
       "    </tr>\n",
       "  </tbody>\n",
       "</table>\n",
       "</div>"
      ],
      "text/plain": [
       "  Nationality  Size Question1 Question2 Question3 Question4 Question5  \\\n",
       "0    ต่างชาติ  ใหญ่      จริง   ไม่จริง      จริง      จริง      จริง   \n",
       "1    ต่างชาติ  ใหญ่   ไม่จริง   ไม่จริง   ไม่จริง      จริง   ไม่จริง   \n",
       "2    ต่างชาติ  ใหญ่      จริง      จริง      จริง      จริง      จริง   \n",
       "3    ต่างชาติ  ใหญ่      จริง   ไม่จริง      จริง      จริง   ไม่จริง   \n",
       "4    ต่างชาติ  ใหญ่      จริง   ไม่จริง      จริง      จริง      จริง   \n",
       "\n",
       "                 Label  \n",
       "0  โกลเด้น รีทรีฟเวอร์  \n",
       "1  โกลเด้น รีทรีฟเวอร์  \n",
       "2  โกลเด้น รีทรีฟเวอร์  \n",
       "3  โกลเด้น รีทรีฟเวอร์  \n",
       "4  โกลเด้น รีทรีฟเวอร์  "
      ]
     },
     "execution_count": 173,
     "metadata": {},
     "output_type": "execute_result"
    }
   ],
   "source": [
    "path = './dogcsv2.csv'\n",
    "df = pd.read_csv(path)\n",
    "df.head()"
   ]
  },
  {
   "cell_type": "code",
   "execution_count": 174,
   "metadata": {},
   "outputs": [
    {
     "data": {
      "text/plain": [
       "(373, 8)"
      ]
     },
     "execution_count": 174,
     "metadata": {},
     "output_type": "execute_result"
    }
   ],
   "source": [
    "df.shape"
   ]
  },
  {
   "cell_type": "code",
   "execution_count": 175,
   "metadata": {},
   "outputs": [],
   "source": [
    "cols = ['Nationality', 'Size', 'Question1', 'Question2', 'Question3',\n",
    "       'Question4', 'Question5']"
   ]
  },
  {
   "cell_type": "code",
   "execution_count": 176,
   "metadata": {},
   "outputs": [],
   "source": [
    "le=LabelEncoder()\n",
    "le.fit(df['Nationality'].astype(str))\n",
    "df['Nationality'] = le.transform(df['Nationality'].astype(str))\n",
    "\n",
    "le.fit(df['Size'].astype(str))\n",
    "df['Size'] = le.transform(df['Size'].astype(str))\n",
    "\n",
    "le.fit(df['Question1'].astype(str))\n",
    "df['Question1'] = le.transform(df['Question1'].astype(str))\n",
    "\n",
    "le.fit(df['Question2'].astype(str))\n",
    "df['Question2'] = le.transform(df['Question2'].astype(str))\n",
    "\n",
    "le.fit(df['Question3'].astype(str))\n",
    "df['Question3'] = le.transform(df['Question3'].astype(str))\n",
    "\n",
    "le.fit(df['Question4'].astype(str))\n",
    "df['Question4'] = le.transform(df['Question4'].astype(str))\n",
    "\n",
    "le.fit(df['Question5'].astype(str))\n",
    "df['Question5'] = le.transform(df['Question5'].astype(str))"
   ]
  },
  {
   "cell_type": "code",
   "execution_count": 177,
   "metadata": {},
   "outputs": [],
   "source": [
    "x=df[cols]\n",
    "y=df['Label']"
   ]
  },
  {
   "cell_type": "code",
   "execution_count": 178,
   "metadata": {},
   "outputs": [],
   "source": [
    "model = CategoricalNB()"
   ]
  },
  {
   "cell_type": "code",
   "execution_count": 179,
   "metadata": {},
   "outputs": [
    {
     "data": {
      "text/plain": [
       "CategoricalNB(alpha=1.0, class_prior=None, fit_prior=True)"
      ]
     },
     "execution_count": 179,
     "metadata": {},
     "output_type": "execute_result"
    }
   ],
   "source": [
    "model.fit(x,y)"
   ]
  },
  {
   "cell_type": "code",
   "execution_count": 180,
   "metadata": {},
   "outputs": [],
   "source": [
    "from sklearn.model_selection import cross_val_score\n",
    "from sklearn.model_selection import cross_val_predict"
   ]
  },
  {
   "cell_type": "code",
   "execution_count": 181,
   "metadata": {},
   "outputs": [
    {
     "data": {
      "text/plain": [
       "0.7560321715817694"
      ]
     },
     "execution_count": 181,
     "metadata": {},
     "output_type": "execute_result"
    }
   ],
   "source": [
    "model.score(x, y)"
   ]
  },
  {
   "cell_type": "code",
   "execution_count": null,
   "metadata": {},
   "outputs": [],
   "source": []
  },
  {
   "cell_type": "markdown",
   "metadata": {},
   "source": [
    "## Cross validation"
   ]
  },
  {
   "cell_type": "code",
   "execution_count": 182,
   "metadata": {},
   "outputs": [
    {
     "data": {
      "text/plain": [
       "array([0.76315789, 0.73684211, 0.60526316, 0.72972973, 0.75675676,\n",
       "       0.67567568, 0.78378378, 0.59459459, 0.62162162, 0.7027027 ])"
      ]
     },
     "execution_count": 182,
     "metadata": {},
     "output_type": "execute_result"
    }
   ],
   "source": [
    "scores = cross_val_score(model, x, y, cv=10)\n",
    "scores"
   ]
  },
  {
   "cell_type": "code",
   "execution_count": 183,
   "metadata": {},
   "outputs": [
    {
     "name": "stdout",
     "output_type": "stream",
     "text": [
      "Accuracy: 0.70 (+/- 0.13)\n"
     ]
    }
   ],
   "source": [
    "print(\"Accuracy: %0.2f (+/- %0.2f)\" % (scores.mean(), scores.std() * 2))"
   ]
  },
  {
   "cell_type": "code",
   "execution_count": 184,
   "metadata": {},
   "outputs": [
    {
     "data": {
      "text/html": [
       "<div>\n",
       "<style scoped>\n",
       "    .dataframe tbody tr th:only-of-type {\n",
       "        vertical-align: middle;\n",
       "    }\n",
       "\n",
       "    .dataframe tbody tr th {\n",
       "        vertical-align: top;\n",
       "    }\n",
       "\n",
       "    .dataframe thead th {\n",
       "        text-align: right;\n",
       "    }\n",
       "</style>\n",
       "<table border=\"1\" class=\"dataframe\">\n",
       "  <thead>\n",
       "    <tr style=\"text-align: right;\">\n",
       "      <th>col_0</th>\n",
       "      <th>ชิวาวา</th>\n",
       "      <th>ชิสุ</th>\n",
       "      <th>พุดเดิ้ล</th>\n",
       "      <th>โกลเด้น รีทรีฟเวอร์</th>\n",
       "      <th>ไทยบางแก้ว</th>\n",
       "      <th>ไทยหลังอาน</th>\n",
       "    </tr>\n",
       "    <tr>\n",
       "      <th>Label</th>\n",
       "      <th></th>\n",
       "      <th></th>\n",
       "      <th></th>\n",
       "      <th></th>\n",
       "      <th></th>\n",
       "      <th></th>\n",
       "    </tr>\n",
       "  </thead>\n",
       "  <tbody>\n",
       "    <tr>\n",
       "      <th>ชิวาวา</th>\n",
       "      <td>52</td>\n",
       "      <td>17</td>\n",
       "      <td>0</td>\n",
       "      <td>0</td>\n",
       "      <td>0</td>\n",
       "      <td>0</td>\n",
       "    </tr>\n",
       "    <tr>\n",
       "      <th>ชิสุ</th>\n",
       "      <td>38</td>\n",
       "      <td>31</td>\n",
       "      <td>0</td>\n",
       "      <td>0</td>\n",
       "      <td>0</td>\n",
       "      <td>0</td>\n",
       "    </tr>\n",
       "    <tr>\n",
       "      <th>พุดเดิ้ล</th>\n",
       "      <td>0</td>\n",
       "      <td>0</td>\n",
       "      <td>63</td>\n",
       "      <td>0</td>\n",
       "      <td>0</td>\n",
       "      <td>0</td>\n",
       "    </tr>\n",
       "    <tr>\n",
       "      <th>โกลเด้น รีทรีฟเวอร์</th>\n",
       "      <td>0</td>\n",
       "      <td>0</td>\n",
       "      <td>0</td>\n",
       "      <td>68</td>\n",
       "      <td>0</td>\n",
       "      <td>0</td>\n",
       "    </tr>\n",
       "    <tr>\n",
       "      <th>ไทยบางแก้ว</th>\n",
       "      <td>0</td>\n",
       "      <td>0</td>\n",
       "      <td>0</td>\n",
       "      <td>0</td>\n",
       "      <td>27</td>\n",
       "      <td>27</td>\n",
       "    </tr>\n",
       "    <tr>\n",
       "      <th>ไทยหลังอาน</th>\n",
       "      <td>0</td>\n",
       "      <td>0</td>\n",
       "      <td>0</td>\n",
       "      <td>0</td>\n",
       "      <td>19</td>\n",
       "      <td>31</td>\n",
       "    </tr>\n",
       "  </tbody>\n",
       "</table>\n",
       "</div>"
      ],
      "text/plain": [
       "col_0                ชิวาวา  ชิสุ  พุดเดิ้ล  โกลเด้น รีทรีฟเวอร์  ไทยบางแก้ว  \\\n",
       "Label                                                                          \n",
       "ชิวาวา                   52    17         0                    0           0   \n",
       "ชิสุ                     38    31         0                    0           0   \n",
       "พุดเดิ้ล                  0     0        63                    0           0   \n",
       "โกลเด้น รีทรีฟเวอร์       0     0         0                   68           0   \n",
       "ไทยบางแก้ว                0     0         0                    0          27   \n",
       "ไทยหลังอาน                0     0         0                    0          19   \n",
       "\n",
       "col_0                ไทยหลังอาน  \n",
       "Label                            \n",
       "ชิวาวา                        0  \n",
       "ชิสุ                          0  \n",
       "พุดเดิ้ล                      0  \n",
       "โกลเด้น รีทรีฟเวอร์           0  \n",
       "ไทยบางแก้ว                   27  \n",
       "ไทยหลังอาน                   31  "
      ]
     },
     "execution_count": 184,
     "metadata": {},
     "output_type": "execute_result"
    }
   ],
   "source": [
    "predicted = cross_val_predict(clf, x, y, cv=10)\n",
    "predicted\n",
    "\n",
    "pd.crosstab(y, predicted)"
   ]
  },
  {
   "cell_type": "code",
   "execution_count": null,
   "metadata": {},
   "outputs": [],
   "source": []
  },
  {
   "cell_type": "code",
   "execution_count": null,
   "metadata": {},
   "outputs": [],
   "source": []
  }
 ],
 "metadata": {
  "kernelspec": {
   "display_name": "Python 3",
   "language": "python",
   "name": "python3"
  },
  "language_info": {
   "codemirror_mode": {
    "name": "ipython",
    "version": 3
   },
   "file_extension": ".py",
   "mimetype": "text/x-python",
   "name": "python",
   "nbconvert_exporter": "python",
   "pygments_lexer": "ipython3",
   "version": "3.7.6"
  }
 },
 "nbformat": 4,
 "nbformat_minor": 4
}
